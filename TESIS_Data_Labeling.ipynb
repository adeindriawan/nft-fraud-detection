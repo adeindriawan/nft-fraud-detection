{
  "nbformat": 4,
  "nbformat_minor": 0,
  "metadata": {
    "colab": {
      "provenance": []
    },
    "kernelspec": {
      "name": "python3",
      "display_name": "Python 3"
    },
    "language_info": {
      "name": "python"
    }
  },
  "cells": [
    {
      "cell_type": "code",
      "execution_count": 1,
      "metadata": {
        "colab": {
          "base_uri": "https://localhost:8080/",
          "height": 749
        },
        "id": "AbZLe_r0oNIm",
        "outputId": "cd052590-668f-4d9b-d3ce-6769fd55a6f3"
      },
      "outputs": [
        {
          "output_type": "stream",
          "name": "stdout",
          "text": [
            "Looking in indexes: https://pypi.org/simple, https://us-python.pkg.dev/colab-wheels/public/simple/\n",
            "Requirement already satisfied: pandas in /usr/local/lib/python3.8/dist-packages (1.3.5)\n",
            "Collecting pandas\n",
            "  Downloading pandas-1.5.2-cp38-cp38-manylinux_2_17_x86_64.manylinux2014_x86_64.whl (12.2 MB)\n",
            "\u001b[K     |████████████████████████████████| 12.2 MB 5.1 MB/s \n",
            "\u001b[?25hRequirement already satisfied: networkx[default] in /usr/local/lib/python3.8/dist-packages (2.6.3)\n",
            "Requirement already satisfied: matplotlib in /usr/local/lib/python3.8/dist-packages (3.2.2)\n",
            "Collecting matplotlib\n",
            "  Downloading matplotlib-3.6.2-cp38-cp38-manylinux_2_12_x86_64.manylinux2010_x86_64.whl (9.4 MB)\n",
            "\u001b[K     |████████████████████████████████| 9.4 MB 43.2 MB/s \n",
            "\u001b[?25hRequirement already satisfied: numpy>=1.20.3 in /usr/local/lib/python3.8/dist-packages (from pandas) (1.21.6)\n",
            "Requirement already satisfied: python-dateutil>=2.8.1 in /usr/local/lib/python3.8/dist-packages (from pandas) (2.8.2)\n",
            "Requirement already satisfied: pytz>=2020.1 in /usr/local/lib/python3.8/dist-packages (from pandas) (2022.6)\n",
            "Requirement already satisfied: six>=1.5 in /usr/local/lib/python3.8/dist-packages (from python-dateutil>=2.8.1->pandas) (1.15.0)\n",
            "Requirement already satisfied: kiwisolver>=1.0.1 in /usr/local/lib/python3.8/dist-packages (from matplotlib) (1.4.4)\n",
            "Requirement already satisfied: pyparsing>=2.2.1 in /usr/local/lib/python3.8/dist-packages (from matplotlib) (3.0.9)\n",
            "Requirement already satisfied: pillow>=6.2.0 in /usr/local/lib/python3.8/dist-packages (from matplotlib) (7.1.2)\n",
            "Collecting fonttools>=4.22.0\n",
            "  Downloading fonttools-4.38.0-py3-none-any.whl (965 kB)\n",
            "\u001b[K     |████████████████████████████████| 965 kB 44.8 MB/s \n",
            "\u001b[?25hRequirement already satisfied: cycler>=0.10 in /usr/local/lib/python3.8/dist-packages (from matplotlib) (0.11.0)\n",
            "Collecting contourpy>=1.0.1\n",
            "  Downloading contourpy-1.0.6-cp38-cp38-manylinux_2_17_x86_64.manylinux2014_x86_64.whl (295 kB)\n",
            "\u001b[K     |████████████████████████████████| 295 kB 47.3 MB/s \n",
            "\u001b[?25hRequirement already satisfied: packaging>=20.0 in /usr/local/lib/python3.8/dist-packages (from matplotlib) (21.3)\n",
            "Requirement already satisfied: scipy!=1.6.1,>=1.5 in /usr/local/lib/python3.8/dist-packages (from networkx[default]) (1.7.3)\n",
            "Installing collected packages: fonttools, contourpy, pandas, matplotlib\n",
            "  Attempting uninstall: pandas\n",
            "    Found existing installation: pandas 1.3.5\n",
            "    Uninstalling pandas-1.3.5:\n",
            "      Successfully uninstalled pandas-1.3.5\n",
            "  Attempting uninstall: matplotlib\n",
            "    Found existing installation: matplotlib 3.2.2\n",
            "    Uninstalling matplotlib-3.2.2:\n",
            "      Successfully uninstalled matplotlib-3.2.2\n",
            "Successfully installed contourpy-1.0.6 fonttools-4.38.0 matplotlib-3.6.2 pandas-1.5.2\n"
          ]
        },
        {
          "output_type": "display_data",
          "data": {
            "application/vnd.colab-display-data+json": {
              "pip_warning": {
                "packages": [
                  "matplotlib",
                  "mpl_toolkits"
                ]
              }
            }
          },
          "metadata": {}
        }
      ],
      "source": [
        "pip install pandas networkx[default] -U matplotlib"
      ]
    },
    {
      "cell_type": "code",
      "source": [
        "import pandas as pd\n",
        "import networkx as nx\n",
        "import matplotlib.pyplot as plt"
      ],
      "metadata": {
        "id": "lXb7God7ojxH"
      },
      "execution_count": 2,
      "outputs": []
    },
    {
      "cell_type": "code",
      "source": [
        "# Load data\n",
        "\n",
        "url = \"https://media.githubusercontent.com/media/adeindriawan/nft-fraud-detection/master/transfers.csv\"\n",
        "df = pd.read_csv(url)\n",
        "df['label'] = 'nonfraud'\n",
        "print(df)"
      ],
      "metadata": {
        "colab": {
          "base_uri": "https://localhost:8080/"
        },
        "id": "nxZsfFbnonTT",
        "outputId": "c1d9262e-bd46-45b2-c6d4-85f5a9d51472"
      },
      "execution_count": 3,
      "outputs": [
        {
          "output_type": "stream",
          "name": "stdout",
          "text": [
            "                                     event_id  \\\n",
            "0        cd816651-56b2-4ed9-887c-c83de732428d   \n",
            "1        82cc5228-eb80-4e0d-9f6f-e644dec3ab06   \n",
            "2        6e1f9cc4-d1df-4a6b-972d-a20765beb326   \n",
            "3        43dc27a7-a72d-4894-809c-e868de05f7ee   \n",
            "4        47b7839b-9b87-442d-b2c1-9ebedcad8e06   \n",
            "...                                       ...   \n",
            "4514724  d45af108-4869-44bb-833d-2539faba0f1b   \n",
            "4514725  73c81c59-c17a-4154-8bbc-5d72a27ee905   \n",
            "4514726  27f9c904-06cf-4807-9011-d5ecae274249   \n",
            "4514727  89718578-d85b-493b-ab2f-8bd49187109c   \n",
            "4514728  a8f8314a-36c5-4999-88e6-86dc4b3e347a   \n",
            "\n",
            "                                          transaction_hash  block_number  \\\n",
            "0        0x0c73daad5e6946e6b2f1374846d6ba3025d6e6a2569f...      12936373   \n",
            "1        0x0c73daad5e6946e6b2f1374846d6ba3025d6e6a2569f...      12936373   \n",
            "2        0x0c73daad5e6946e6b2f1374846d6ba3025d6e6a2569f...      12936373   \n",
            "3        0x0c73daad5e6946e6b2f1374846d6ba3025d6e6a2569f...      12936373   \n",
            "4        0x0c73daad5e6946e6b2f1374846d6ba3025d6e6a2569f...      12936373   \n",
            "...                                                    ...           ...   \n",
            "4514724  0xed4c976702534f735048e6ffca2a8704904f8aa96b77...      12545210   \n",
            "4514725  0x883257f2403851cf4f1f19a87728aafe269791fe0fcd...      12545211   \n",
            "4514726  0xd2643bdc7b6cd192fbdb721b62c8910fbf8753a17605...      12545211   \n",
            "4514727  0x3267f817704fe3fc328a348e169431c17ab07ecf757f...      12545211   \n",
            "4514728  0x025b10245fac292d038a473a9deebf8d1387b882a62a...      12545218   \n",
            "\n",
            "                                        nft_address  \\\n",
            "0        0x629A673A8242c2AC4B7B8C5D8735fbeac21A6205   \n",
            "1        0x629A673A8242c2AC4B7B8C5D8735fbeac21A6205   \n",
            "2        0x629A673A8242c2AC4B7B8C5D8735fbeac21A6205   \n",
            "3        0x629A673A8242c2AC4B7B8C5D8735fbeac21A6205   \n",
            "4        0x629A673A8242c2AC4B7B8C5D8735fbeac21A6205   \n",
            "...                                             ...   \n",
            "4514724  0xBC4CA0EdA7647A8aB7C2061c2E118A18a936f13D   \n",
            "4514725  0x629A673A8242c2AC4B7B8C5D8735fbeac21A6205   \n",
            "4514726  0x629A673A8242c2AC4B7B8C5D8735fbeac21A6205   \n",
            "4514727  0x3B3ee1931Dc30C1957379FAc9aba94D1C48a5405   \n",
            "4514728  0xBC4CA0EdA7647A8aB7C2061c2E118A18a936f13D   \n",
            "\n",
            "                                                  token_id  \\\n",
            "0        6682934142305278177002530107138320246486863356...   \n",
            "1        1198507443711741845273832738859307575893198744...   \n",
            "2        1541220344281436903042142177888467401468454835...   \n",
            "3        7993840355029527745913866651030234226423689128...   \n",
            "4        1123719749142984581497870712442861055686734521...   \n",
            "...                                                    ...   \n",
            "4514724                                               5175   \n",
            "4514725  2572313837129053907318259388395403352463424684...   \n",
            "4514726  2576534060693998439509198862073888456960734364...   \n",
            "4514727                                              43236   \n",
            "4514728                                               1805   \n",
            "\n",
            "                                       from_address  \\\n",
            "0        0x25f1d709b329C7349b8209851E90eFa3a7f60178   \n",
            "1        0x0737E7162C88E9FBB963334e4Bfe6e97447fF811   \n",
            "2        0xA0fEc186c4b3FAd39ca373dFdd52E79C2495F2c3   \n",
            "3        0x90bE22069560A9bAd99543B4A922d1FE34Ae84E9   \n",
            "4        0xA8E9C42Ebb915EeEC5080B7Bcc5D844475595091   \n",
            "...                                             ...   \n",
            "4514724  0x1b826e30B83A5066474C7E3CA8D9b3880Ba97F09   \n",
            "4514725  0x327305A797d92a39cEe1a225D7E2A1cC42B1a8fA   \n",
            "4514726  0x19804927f74C3c0899AFd49d56bff6ddAE6cF518   \n",
            "4514727  0xC5673A84A47aa7e7bcB66Fc64B157B8964D93a9b   \n",
            "4514728  0xD387A6E4e84a6C86bd90C158C6028A58CC8Ac459   \n",
            "\n",
            "                                         to_address  transaction_value  \\\n",
            "0        0xC69b4c6fFDBaF843A0d0588c99E3C67f27069BEa       0.000000e+00   \n",
            "1        0xC69b4c6fFDBaF843A0d0588c99E3C67f27069BEa       0.000000e+00   \n",
            "2        0xC69b4c6fFDBaF843A0d0588c99E3C67f27069BEa       0.000000e+00   \n",
            "3        0xC69b4c6fFDBaF843A0d0588c99E3C67f27069BEa       0.000000e+00   \n",
            "4        0xC69b4c6fFDBaF843A0d0588c99E3C67f27069BEa       0.000000e+00   \n",
            "...                                             ...                ...   \n",
            "4514724  0x519e19Eac9EAd404343c68224dD2A22C5c25F992       0.000000e+00   \n",
            "4514725  0xDe747F2AF4627c1646C206eC7289597039ba319E       0.000000e+00   \n",
            "4514726  0x1b6A054a0850De061763B8C869daF53911e84C91       0.000000e+00   \n",
            "4514727  0xcDA72070E455bb31C7690a170224Ce43623d0B6f       0.000000e+00   \n",
            "4514728  0x0E242eE3b47df91a185EC75eF55caBa329D6019e       9.500000e+17   \n",
            "\n",
            "          timestamp     label  \n",
            "0        1627776481  nonfraud  \n",
            "1        1627776481  nonfraud  \n",
            "2        1627776481  nonfraud  \n",
            "3        1627776481  nonfraud  \n",
            "4        1627776481  nonfraud  \n",
            "...             ...       ...  \n",
            "4514724  1622505430  nonfraud  \n",
            "4514725  1622505446  nonfraud  \n",
            "4514726  1622505446  nonfraud  \n",
            "4514727  1622505446  nonfraud  \n",
            "4514728  1622505597  nonfraud  \n",
            "\n",
            "[4514729 rows x 10 columns]\n"
          ]
        }
      ]
    },
    {
      "cell_type": "code",
      "source": [
        "threshold = 5\n",
        "multiple_trx = df[['nft_address', 'token_id']].groupby(['nft_address', 'token_id']).size().loc[lambda x: x > threshold].reset_index(name='freq').sort_values(by=['freq'], ascending=False)\n",
        "print(multiple_trx)"
      ],
      "metadata": {
        "colab": {
          "base_uri": "https://localhost:8080/"
        },
        "id": "-Z8j5f82rIqe",
        "outputId": "287e2930-deb3-4246-b176-4d90430621bd"
      },
      "execution_count": 4,
      "outputs": [
        {
          "output_type": "stream",
          "name": "stdout",
          "text": [
            "                                      nft_address  \\\n",
            "15587  0xACd3CF818EFe8ddce84C585ddCB147c4C844D3b3   \n",
            "22702  0xb7F7F6C52F2e2fdb1963Eab30438024864c313F6   \n",
            "7709   0x60F80121C31A0d46B5279700f9DF786054aa5eE5   \n",
            "22623  0xb7F7F6C52F2e2fdb1963Eab30438024864c313F6   \n",
            "22768  0xb7F7F6C52F2e2fdb1963Eab30438024864c313F6   \n",
            "...                                           ...   \n",
            "10210  0x629A673A8242c2AC4B7B8C5D8735fbeac21A6205   \n",
            "16993  0xBC4CA0EdA7647A8aB7C2061c2E118A18a936f13D   \n",
            "16994  0xBC4CA0EdA7647A8aB7C2061c2E118A18a936f13D   \n",
            "10209  0x629A673A8242c2AC4B7B8C5D8735fbeac21A6205   \n",
            "16584  0xBC4CA0EdA7647A8aB7C2061c2E118A18a936f13D   \n",
            "\n",
            "                                                token_id  freq  \n",
            "15587                                                  0   272  \n",
            "22702                                                639    72  \n",
            "7709                                             1208910    72  \n",
            "22623                                               3920    67  \n",
            "22768                                               8476    65  \n",
            "...                                                  ...   ...  \n",
            "10210  5114794435508629800760756542541542575044729516...     6  \n",
            "16993                                               7113     6  \n",
            "16994                                               7115     6  \n",
            "10209  5110126528850983599255785464247953058020128352...     6  \n",
            "16584                                               5252     6  \n",
            "\n",
            "[26554 rows x 3 columns]\n"
          ]
        }
      ]
    },
    {
      "cell_type": "code",
      "source": [
        "from networkx import simple_cycles\n",
        "\n",
        "for i, v in enumerate(multiple_trx.iterrows()):\n",
        "  filter1 = df['nft_address'] == v[1]['nft_address']\n",
        "  filter2 = df['token_id'] == v[1]['token_id']\n",
        "  f_m_t = df[filter1 & filter2]\n",
        "  f_m_t_sorted = f_m_t.sort_values(by=['timestamp'], ascending=True)\n",
        "  \n",
        "  G = nx.DiGraph()\n",
        "  # unique_addresses = (f_m_t_sorted['from_address'].append(f_m_t_sorted['to_address'])).unique()\n",
        "  unique_addresses = pd.concat([f_m_t_sorted['from_address'], f_m_t_sorted['to_address']]).unique()\n",
        "  account_nodes = [tuple((x, {\"entity\": \"Account\", \"address\": x})) for x in unique_addresses]\n",
        "  G.add_nodes_from(account_nodes)\n",
        "  for index, item in f_m_t.iterrows():\n",
        "    G.add_edge(item['from_address'], item['to_address'], rel='TRANSFERED_TO')\n",
        "\n",
        "  loops = list(simple_cycles(G))\n",
        "  if len(loops) >= 2:\n",
        "    df.loc[filter1 & filter2, 'label'] = 'fraud'\n",
        "\n",
        "  print(i)\n",
        "\n"
      ],
      "metadata": {
        "colab": {
          "base_uri": "https://localhost:8080/"
        },
        "id": "CSxA29WQ3gCh",
        "outputId": "324d27b4-c7a7-4690-c44d-8c6b5157a690"
      },
      "execution_count": null,
      "outputs": [
        {
          "output_type": "stream",
          "name": "stdout",
          "text": [
            "0\n",
            "1\n",
            "2\n",
            "3\n",
            "4\n",
            "5\n",
            "6\n",
            "7\n",
            "8\n",
            "9\n",
            "10\n",
            "11\n",
            "12\n",
            "13\n",
            "14\n",
            "15\n",
            "16\n",
            "17\n",
            "18\n",
            "19\n",
            "20\n",
            "21\n",
            "22\n",
            "23\n",
            "24\n",
            "25\n",
            "26\n",
            "27\n",
            "28\n",
            "29\n",
            "30\n",
            "31\n",
            "32\n",
            "33\n",
            "34\n",
            "35\n",
            "36\n",
            "37\n",
            "38\n",
            "39\n",
            "40\n",
            "41\n",
            "42\n",
            "43\n",
            "44\n",
            "45\n",
            "46\n",
            "47\n",
            "48\n",
            "49\n",
            "50\n",
            "51\n",
            "52\n",
            "53\n",
            "54\n",
            "55\n",
            "56\n",
            "57\n",
            "58\n",
            "59\n",
            "60\n",
            "61\n",
            "62\n",
            "63\n",
            "64\n",
            "65\n",
            "66\n",
            "67\n",
            "68\n",
            "69\n",
            "70\n",
            "71\n",
            "72\n",
            "73\n",
            "74\n",
            "75\n",
            "76\n",
            "77\n",
            "78\n",
            "79\n",
            "80\n",
            "81\n",
            "82\n",
            "83\n",
            "84\n",
            "85\n",
            "86\n",
            "87\n",
            "88\n",
            "89\n",
            "90\n",
            "91\n",
            "92\n",
            "93\n",
            "94\n",
            "95\n",
            "96\n",
            "97\n",
            "98\n",
            "99\n",
            "100\n",
            "101\n",
            "102\n",
            "103\n",
            "104\n",
            "105\n",
            "106\n",
            "107\n",
            "108\n",
            "109\n",
            "110\n",
            "111\n",
            "112\n",
            "113\n"
          ]
        }
      ]
    },
    {
      "cell_type": "code",
      "source": [
        "fraud_label_filter = df['label'] == 'fraud'\n",
        "df[fraud_label_filter]"
      ],
      "metadata": {
        "id": "eH6ttv8SkamN"
      },
      "execution_count": null,
      "outputs": []
    },
    {
      "cell_type": "markdown",
      "source": [
        "CONTOH DATA LABELING"
      ],
      "metadata": {
        "id": "pt7z0G_RDeFQ"
      }
    },
    {
      "cell_type": "code",
      "source": [
        "f1 = df['nft_address'] == '0x053afa4D216F20DD0c15631Fb1Fb26a02B152c09'\n",
        "f2 = df['token_id'] == '1'\n",
        "\n",
        "df.loc[f1 & f2, 'label'] = 'fraud'\n",
        "df[f1 & f2]"
      ],
      "metadata": {
        "id": "T-ekXOapgmlH"
      },
      "execution_count": null,
      "outputs": []
    },
    {
      "cell_type": "code",
      "source": [
        "ex = '0x053afa4D216F20DD0c15631Fb1Fb26a02B152c09_1.csv'\n",
        "ex_df = pd.read_csv(ex)\n",
        "ex_df_sorted = ex_df.sort_values(by=['timestamp'], ascending=True)\n",
        "print(ex_df_sorted)"
      ],
      "metadata": {
        "id": "2nn9kyGyvuk0",
        "colab": {
          "base_uri": "https://localhost:8080/"
        },
        "outputId": "cdaf8b77-e31c-4cfa-f7c6-4f4533497c4c"
      },
      "execution_count": 5,
      "outputs": [
        {
          "output_type": "stream",
          "name": "stdout",
          "text": [
            "                                event_id  \\\n",
            "0   1ec14616-f732-4a10-9053-9dd7009cf071   \n",
            "23  abbbb140-8780-4c81-8650-b2d97a74d2d7   \n",
            "21  063a27e4-2ca5-4d05-b3d5-27378ae826b8   \n",
            "20  b5a8a3da-e35b-4117-bd4f-d3ac0716e82d   \n",
            "19  7eb5030b-ae71-4d7f-9f03-a2b5d4daa7c2   \n",
            "18  b6c6a0cd-a095-4491-8e4b-08c1e61d3b66   \n",
            "17  531db15b-2229-46f4-b1bd-a1d921ba6c83   \n",
            "16  911f528f-9320-413c-a2aa-73e7371b1b25   \n",
            "15  c36dc2f7-eca7-4476-bb25-987aeb0e4273   \n",
            "14  c3270793-eb91-4260-b9c0-ab37d005ed6e   \n",
            "13  bb3d6461-c078-461b-9108-fbb787483a30   \n",
            "12  595d94c7-1a00-487a-acd2-378fc827b2e4   \n",
            "22  0d050eaf-f10f-4383-bcb1-5fb0ee6b77e2   \n",
            "10  d6341027-c026-456f-a9f6-93d4eb867e4b   \n",
            "9   08f99d63-522d-4593-9760-318e42f583dc   \n",
            "8   72cc5ee5-7ef2-4581-b24f-832d5ae7e671   \n",
            "7   b43f2046-6dfa-41d2-ac94-5f3ca958af8c   \n",
            "6   59b7c882-ddb0-42f2-a81e-1235e253cb88   \n",
            "5   9e8792ae-a581-4099-a513-4dd080d21c4b   \n",
            "4   142b1435-526a-4cb0-b328-548199df8da5   \n",
            "3   21b93550-0922-447b-8d82-ff8e3d124bda   \n",
            "2   b235da12-fc5f-4250-91af-311892b63821   \n",
            "11  1a251f6d-85d6-4833-830c-c16ab1f929bd   \n",
            "1   b9369d85-ad9b-4328-9aaa-c41afdc3394e   \n",
            "24  83a893b4-a89a-4431-8a25-c315ebbd7c5f   \n",
            "25  546cb4d5-6b1b-490b-9171-9b40cdef70ba   \n",
            "26  612f240c-3d38-4eba-a7a7-8b9e5369bedc   \n",
            "27  21f49bd1-dd5f-41a3-b828-17996252fb44   \n",
            "28  7d6f82b3-6b89-4e0c-a6be-c1618cdc4926   \n",
            "29  ca3358a4-6693-4b1c-b796-4ca72b38ecaf   \n",
            "30  fee5b96d-d708-4f2c-ba34-3104f6b758bd   \n",
            "31  3bfe6537-2088-424e-af48-a6669ce8267e   \n",
            "32  c8d291db-cfd8-477d-95b9-b8a145f43a9b   \n",
            "33  b18b992d-ac56-44da-b8d0-c62bd7f5bf57   \n",
            "34  1ebe177c-50a2-4c67-bc9c-2d75c7dff287   \n",
            "35  7672170a-d5f7-429a-9147-e798674d1187   \n",
            "36  fb223c79-ab21-4c32-8962-9db35456734d   \n",
            "37  1d401864-617a-43d0-afdd-57ca2f7227dd   \n",
            "38  c1dc4c7c-158a-4457-b601-9c4418144550   \n",
            "39  2e31d18e-0c88-4eba-ac9e-0f9d1bf9f544   \n",
            "40  6b1fac58-e9f3-49d2-ab24-75a0961cbfeb   \n",
            "41  a6611562-c5c6-478f-84ff-913e088b5b48   \n",
            "42  e65e481c-fb59-493a-bbb4-8e0952dd91a4   \n",
            "43  d0d938a1-1923-4b43-a39d-f52f623bebfa   \n",
            "44  42a31877-1395-4773-a779-778060aaefd3   \n",
            "\n",
            "                                   nft_address  token_id  \\\n",
            "0   0x053afa4D216F20DD0c15631Fb1Fb26a02B152c09         1   \n",
            "23  0x053afa4D216F20DD0c15631Fb1Fb26a02B152c09         1   \n",
            "21  0x053afa4D216F20DD0c15631Fb1Fb26a02B152c09         1   \n",
            "20  0x053afa4D216F20DD0c15631Fb1Fb26a02B152c09         1   \n",
            "19  0x053afa4D216F20DD0c15631Fb1Fb26a02B152c09         1   \n",
            "18  0x053afa4D216F20DD0c15631Fb1Fb26a02B152c09         1   \n",
            "17  0x053afa4D216F20DD0c15631Fb1Fb26a02B152c09         1   \n",
            "16  0x053afa4D216F20DD0c15631Fb1Fb26a02B152c09         1   \n",
            "15  0x053afa4D216F20DD0c15631Fb1Fb26a02B152c09         1   \n",
            "14  0x053afa4D216F20DD0c15631Fb1Fb26a02B152c09         1   \n",
            "13  0x053afa4D216F20DD0c15631Fb1Fb26a02B152c09         1   \n",
            "12  0x053afa4D216F20DD0c15631Fb1Fb26a02B152c09         1   \n",
            "22  0x053afa4D216F20DD0c15631Fb1Fb26a02B152c09         1   \n",
            "10  0x053afa4D216F20DD0c15631Fb1Fb26a02B152c09         1   \n",
            "9   0x053afa4D216F20DD0c15631Fb1Fb26a02B152c09         1   \n",
            "8   0x053afa4D216F20DD0c15631Fb1Fb26a02B152c09         1   \n",
            "7   0x053afa4D216F20DD0c15631Fb1Fb26a02B152c09         1   \n",
            "6   0x053afa4D216F20DD0c15631Fb1Fb26a02B152c09         1   \n",
            "5   0x053afa4D216F20DD0c15631Fb1Fb26a02B152c09         1   \n",
            "4   0x053afa4D216F20DD0c15631Fb1Fb26a02B152c09         1   \n",
            "3   0x053afa4D216F20DD0c15631Fb1Fb26a02B152c09         1   \n",
            "2   0x053afa4D216F20DD0c15631Fb1Fb26a02B152c09         1   \n",
            "11  0x053afa4D216F20DD0c15631Fb1Fb26a02B152c09         1   \n",
            "1   0x053afa4D216F20DD0c15631Fb1Fb26a02B152c09         1   \n",
            "24  0x053afa4D216F20DD0c15631Fb1Fb26a02B152c09         1   \n",
            "25  0x053afa4D216F20DD0c15631Fb1Fb26a02B152c09         1   \n",
            "26  0x053afa4D216F20DD0c15631Fb1Fb26a02B152c09         1   \n",
            "27  0x053afa4D216F20DD0c15631Fb1Fb26a02B152c09         1   \n",
            "28  0x053afa4D216F20DD0c15631Fb1Fb26a02B152c09         1   \n",
            "29  0x053afa4D216F20DD0c15631Fb1Fb26a02B152c09         1   \n",
            "30  0x053afa4D216F20DD0c15631Fb1Fb26a02B152c09         1   \n",
            "31  0x053afa4D216F20DD0c15631Fb1Fb26a02B152c09         1   \n",
            "32  0x053afa4D216F20DD0c15631Fb1Fb26a02B152c09         1   \n",
            "33  0x053afa4D216F20DD0c15631Fb1Fb26a02B152c09         1   \n",
            "34  0x053afa4D216F20DD0c15631Fb1Fb26a02B152c09         1   \n",
            "35  0x053afa4D216F20DD0c15631Fb1Fb26a02B152c09         1   \n",
            "36  0x053afa4D216F20DD0c15631Fb1Fb26a02B152c09         1   \n",
            "37  0x053afa4D216F20DD0c15631Fb1Fb26a02B152c09         1   \n",
            "38  0x053afa4D216F20DD0c15631Fb1Fb26a02B152c09         1   \n",
            "39  0x053afa4D216F20DD0c15631Fb1Fb26a02B152c09         1   \n",
            "40  0x053afa4D216F20DD0c15631Fb1Fb26a02B152c09         1   \n",
            "41  0x053afa4D216F20DD0c15631Fb1Fb26a02B152c09         1   \n",
            "42  0x053afa4D216F20DD0c15631Fb1Fb26a02B152c09         1   \n",
            "43  0x053afa4D216F20DD0c15631Fb1Fb26a02B152c09         1   \n",
            "44  0x053afa4D216F20DD0c15631Fb1Fb26a02B152c09         1   \n",
            "\n",
            "                                  from_address  \\\n",
            "0   0x5b411285bDE8a6E0237B465B5Cb6577040885c98   \n",
            "23  0xA731178E11A70d65BDEeD6f6575cD2ccfD9C265A   \n",
            "21  0xA731178E11A70d65BDEeD6f6575cD2ccfD9C265A   \n",
            "20  0xA731178E11A70d65BDEeD6f6575cD2ccfD9C265A   \n",
            "19  0x5b411285bDE8a6E0237B465B5Cb6577040885c98   \n",
            "18  0xA731178E11A70d65BDEeD6f6575cD2ccfD9C265A   \n",
            "17  0x5b411285bDE8a6E0237B465B5Cb6577040885c98   \n",
            "16  0xA731178E11A70d65BDEeD6f6575cD2ccfD9C265A   \n",
            "15  0x5b411285bDE8a6E0237B465B5Cb6577040885c98   \n",
            "14  0xA731178E11A70d65BDEeD6f6575cD2ccfD9C265A   \n",
            "13  0x5b411285bDE8a6E0237B465B5Cb6577040885c98   \n",
            "12  0xA731178E11A70d65BDEeD6f6575cD2ccfD9C265A   \n",
            "22  0x5b411285bDE8a6E0237B465B5Cb6577040885c98   \n",
            "10  0x5b411285bDE8a6E0237B465B5Cb6577040885c98   \n",
            "9   0xA731178E11A70d65BDEeD6f6575cD2ccfD9C265A   \n",
            "8   0x5b411285bDE8a6E0237B465B5Cb6577040885c98   \n",
            "7   0xA731178E11A70d65BDEeD6f6575cD2ccfD9C265A   \n",
            "6   0x5b411285bDE8a6E0237B465B5Cb6577040885c98   \n",
            "5   0xA731178E11A70d65BDEeD6f6575cD2ccfD9C265A   \n",
            "4   0x5b411285bDE8a6E0237B465B5Cb6577040885c98   \n",
            "3   0xA731178E11A70d65BDEeD6f6575cD2ccfD9C265A   \n",
            "2   0x5b411285bDE8a6E0237B465B5Cb6577040885c98   \n",
            "11  0x99988890F2DE1d59e1EB76d2f34CDE371044b8C8   \n",
            "1   0xA731178E11A70d65BDEeD6f6575cD2ccfD9C265A   \n",
            "24  0x5b411285bDE8a6E0237B465B5Cb6577040885c98   \n",
            "25  0x281e8D319088a7BCf99C3F98E6C145e9Be62cF66   \n",
            "26  0xe2ca7390e76c5A992749bB622087310d2e63ca29   \n",
            "27  0xF962f8D31b4f5e9794C76658b8E09aE08B4F0506   \n",
            "28  0xea5ABc1a1689984EbFDC41130886BdAEB5c24078   \n",
            "29  0xF962f8D31b4f5e9794C76658b8E09aE08B4F0506   \n",
            "30  0xea5ABc1a1689984EbFDC41130886BdAEB5c24078   \n",
            "31  0xF962f8D31b4f5e9794C76658b8E09aE08B4F0506   \n",
            "32  0x9428E55418755b2F902D3B1f898A871AB5634182   \n",
            "33  0x01974549C9B9a30d47c548A16b120b1cAa7B586C   \n",
            "34  0x281e8D319088a7BCf99C3F98E6C145e9Be62cF66   \n",
            "35  0x9428E55418755b2F902D3B1f898A871AB5634182   \n",
            "36  0x01974549C9B9a30d47c548A16b120b1cAa7B586C   \n",
            "37  0x9428E55418755b2F902D3B1f898A871AB5634182   \n",
            "38  0xe2ca7390e76c5A992749bB622087310d2e63ca29   \n",
            "39  0x9428E55418755b2F902D3B1f898A871AB5634182   \n",
            "40  0x01974549C9B9a30d47c548A16b120b1cAa7B586C   \n",
            "41  0x9428E55418755b2F902D3B1f898A871AB5634182   \n",
            "42  0x82d751c236Cb6c682A54196Ef6fc01021a101a1B   \n",
            "43  0x9428E55418755b2F902D3B1f898A871AB5634182   \n",
            "44  0x82d751c236Cb6c682A54196Ef6fc01021a101a1B   \n",
            "\n",
            "                                    to_address  transaction_value   timestamp  \n",
            "0   0xA731178E11A70d65BDEeD6f6575cD2ccfD9C265A       2.088700e+18  1622277036  \n",
            "23  0x5b411285bDE8a6E0237B465B5Cb6577040885c98       2.088700e+18  1622277036  \n",
            "21  0x5b411285bDE8a6E0237B465B5Cb6577040885c98       2.088700e+18  1622277036  \n",
            "20  0x5b411285bDE8a6E0237B465B5Cb6577040885c98       2.088700e+18  1622277036  \n",
            "19  0xA731178E11A70d65BDEeD6f6575cD2ccfD9C265A       2.088700e+18  1622277036  \n",
            "18  0x5b411285bDE8a6E0237B465B5Cb6577040885c98       2.088700e+18  1622277036  \n",
            "17  0xA731178E11A70d65BDEeD6f6575cD2ccfD9C265A       2.088700e+18  1622277036  \n",
            "16  0x5b411285bDE8a6E0237B465B5Cb6577040885c98       2.088700e+18  1622277036  \n",
            "15  0xA731178E11A70d65BDEeD6f6575cD2ccfD9C265A       2.088700e+18  1622277036  \n",
            "14  0x5b411285bDE8a6E0237B465B5Cb6577040885c98       2.088700e+18  1622277036  \n",
            "13  0xA731178E11A70d65BDEeD6f6575cD2ccfD9C265A       2.088700e+18  1622277036  \n",
            "12  0x5b411285bDE8a6E0237B465B5Cb6577040885c98       2.088700e+18  1622277036  \n",
            "22  0xA731178E11A70d65BDEeD6f6575cD2ccfD9C265A       2.088700e+18  1622277036  \n",
            "10  0xA731178E11A70d65BDEeD6f6575cD2ccfD9C265A       2.088700e+18  1622277036  \n",
            "9   0x5b411285bDE8a6E0237B465B5Cb6577040885c98       2.088700e+18  1622277036  \n",
            "8   0xA731178E11A70d65BDEeD6f6575cD2ccfD9C265A       2.088700e+18  1622277036  \n",
            "7   0x5b411285bDE8a6E0237B465B5Cb6577040885c98       2.088700e+18  1622277036  \n",
            "6   0xA731178E11A70d65BDEeD6f6575cD2ccfD9C265A       2.088700e+18  1622277036  \n",
            "5   0x5b411285bDE8a6E0237B465B5Cb6577040885c98       2.088700e+18  1622277036  \n",
            "4   0xA731178E11A70d65BDEeD6f6575cD2ccfD9C265A       2.088700e+18  1622277036  \n",
            "3   0x5b411285bDE8a6E0237B465B5Cb6577040885c98       2.088700e+18  1622277036  \n",
            "2   0xA731178E11A70d65BDEeD6f6575cD2ccfD9C265A       2.088700e+18  1622277036  \n",
            "11  0xA731178E11A70d65BDEeD6f6575cD2ccfD9C265A       2.088700e+18  1622277036  \n",
            "1   0x5b411285bDE8a6E0237B465B5Cb6577040885c98       2.088700e+18  1622277036  \n",
            "24  0x281e8D319088a7BCf99C3F98E6C145e9Be62cF66       2.100000e+18  1622278248  \n",
            "25  0xe2ca7390e76c5A992749bB622087310d2e63ca29       2.300000e+18  1622278381  \n",
            "26  0xF962f8D31b4f5e9794C76658b8E09aE08B4F0506       3.500000e+18  1622278507  \n",
            "27  0xea5ABc1a1689984EbFDC41130886BdAEB5c24078       2.780100e+18  1622278633  \n",
            "28  0xF962f8D31b4f5e9794C76658b8E09aE08B4F0506       3.900000e+18  1622278769  \n",
            "29  0xea5ABc1a1689984EbFDC41130886BdAEB5c24078       3.363800e+18  1622278862  \n",
            "30  0xF962f8D31b4f5e9794C76658b8E09aE08B4F0506       4.200000e+18  1622279018  \n",
            "31  0x9428E55418755b2F902D3B1f898A871AB5634182       4.070200e+18  1622279123  \n",
            "32  0x01974549C9B9a30d47c548A16b120b1cAa7B586C       4.477300e+18  1622279271  \n",
            "33  0x281e8D319088a7BCf99C3F98E6C145e9Be62cF66       5.000000e+18  1622279323  \n",
            "34  0x9428E55418755b2F902D3B1f898A871AB5634182       5.417500e+18  1622279387  \n",
            "35  0x01974549C9B9a30d47c548A16b120b1cAa7B586C       5.959200e+18  1622279477  \n",
            "36  0x9428E55418755b2F902D3B1f898A871AB5634182       6.555100e+18  1622279585  \n",
            "37  0xe2ca7390e76c5A992749bB622087310d2e63ca29       7.300000e+18  1622279625  \n",
            "38  0x9428E55418755b2F902D3B1f898A871AB5634182       7.931600e+18  1622279702  \n",
            "39  0x01974549C9B9a30d47c548A16b120b1cAa7B586C       8.724800e+18  1622279852  \n",
            "40  0x9428E55418755b2F902D3B1f898A871AB5634182       9.597300e+18  1622280974  \n",
            "41  0x82d751c236Cb6c682A54196Ef6fc01021a101a1B       1.055700e+19  1622281316  \n",
            "42  0x9428E55418755b2F902D3B1f898A871AB5634182       1.161270e+19  1622282061  \n",
            "43  0x82d751c236Cb6c682A54196Ef6fc01021a101a1B       1.277390e+19  1622283011  \n",
            "44  0x9428E55418755b2F902D3B1f898A871AB5634182       1.405130e+19  1622283609  \n"
          ]
        }
      ]
    },
    {
      "cell_type": "code",
      "source": [
        "G = nx.DiGraph()"
      ],
      "metadata": {
        "id": "yRMsUhYJwcXa"
      },
      "execution_count": 6,
      "outputs": []
    },
    {
      "cell_type": "code",
      "source": [
        "unique_addresses = pd.concat([ex_df_sorted['from_address'], ex_df_sorted['to_address']]).unique()\n",
        "account_nodes = [tuple((x, {\"entity\": \"Account\", \"address\": x})) for x in unique_addresses]\n",
        "G.add_nodes_from(account_nodes)\n",
        "print(account_nodes)"
      ],
      "metadata": {
        "id": "moBaVMWxwkTe",
        "colab": {
          "base_uri": "https://localhost:8080/"
        },
        "outputId": "e985812c-869c-42c7-c8a0-bec635506610"
      },
      "execution_count": 14,
      "outputs": [
        {
          "output_type": "stream",
          "name": "stdout",
          "text": [
            "[('0x5b411285bDE8a6E0237B465B5Cb6577040885c98', {'entity': 'Account', 'address': '0x5b411285bDE8a6E0237B465B5Cb6577040885c98'}), ('0xA731178E11A70d65BDEeD6f6575cD2ccfD9C265A', {'entity': 'Account', 'address': '0xA731178E11A70d65BDEeD6f6575cD2ccfD9C265A'}), ('0x99988890F2DE1d59e1EB76d2f34CDE371044b8C8', {'entity': 'Account', 'address': '0x99988890F2DE1d59e1EB76d2f34CDE371044b8C8'}), ('0x281e8D319088a7BCf99C3F98E6C145e9Be62cF66', {'entity': 'Account', 'address': '0x281e8D319088a7BCf99C3F98E6C145e9Be62cF66'}), ('0xe2ca7390e76c5A992749bB622087310d2e63ca29', {'entity': 'Account', 'address': '0xe2ca7390e76c5A992749bB622087310d2e63ca29'}), ('0xF962f8D31b4f5e9794C76658b8E09aE08B4F0506', {'entity': 'Account', 'address': '0xF962f8D31b4f5e9794C76658b8E09aE08B4F0506'}), ('0xea5ABc1a1689984EbFDC41130886BdAEB5c24078', {'entity': 'Account', 'address': '0xea5ABc1a1689984EbFDC41130886BdAEB5c24078'}), ('0x9428E55418755b2F902D3B1f898A871AB5634182', {'entity': 'Account', 'address': '0x9428E55418755b2F902D3B1f898A871AB5634182'}), ('0x01974549C9B9a30d47c548A16b120b1cAa7B586C', {'entity': 'Account', 'address': '0x01974549C9B9a30d47c548A16b120b1cAa7B586C'}), ('0x82d751c236Cb6c682A54196Ef6fc01021a101a1B', {'entity': 'Account', 'address': '0x82d751c236Cb6c682A54196Ef6fc01021a101a1B'})]\n"
          ]
        }
      ]
    },
    {
      "cell_type": "code",
      "source": [
        "node_pos=nx.spring_layout(G) #Any layout will work here, including nx.spring_layout(G)\n",
        "nx.draw_networkx_nodes(G,pos=node_pos, node_color='r')#draw nodes\n",
        "plt.show() "
      ],
      "metadata": {
        "id": "PNAk4QwXw6SM"
      },
      "execution_count": null,
      "outputs": []
    },
    {
      "cell_type": "code",
      "source": [
        "for index, item in ex_df_sorted.iterrows():\n",
        "  G.add_edge(item['from_address'], item['to_address'], rel='TRANSFERED_TO')"
      ],
      "metadata": {
        "id": "vc7jw8VoxYTP"
      },
      "execution_count": 16,
      "outputs": []
    },
    {
      "cell_type": "code",
      "source": [
        "nodes = G.nodes()\n",
        "\n",
        "pos = nx.spring_layout(G)\n",
        "ec = nx.draw_networkx_edges(G, pos, edge_color='r')\n",
        "nc = nx.draw_networkx_nodes(G, pos, nodelist=nodes, node_color='b', \n",
        "                            node_size=100, cmap=plt.cm.jet)\n",
        "\n",
        "plt.colorbar(nc)\n",
        "plt.axis('off')\n",
        "plt.show()"
      ],
      "metadata": {
        "id": "2_MiLEhrxvrr"
      },
      "execution_count": null,
      "outputs": []
    },
    {
      "cell_type": "code",
      "source": [
        "from networkx import simple_cycles\n",
        "loops = list(simple_cycles(G))\n",
        "print(len(loops))"
      ],
      "metadata": {
        "colab": {
          "base_uri": "https://localhost:8080/"
        },
        "id": "gkWmRYacx95a",
        "outputId": "8736cb6b-b59f-47e9-b0ae-516fe8f41da8"
      },
      "execution_count": 18,
      "outputs": [
        {
          "output_type": "stream",
          "name": "stdout",
          "text": [
            "9\n"
          ]
        }
      ]
    }
  ]
}